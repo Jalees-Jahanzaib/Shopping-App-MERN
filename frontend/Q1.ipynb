{
 "cells": [
  {
   "cell_type": "markdown",
   "metadata": {},
   "source": [
    "## Q1:\n"
   ]
  },
  {
   "cell_type": "markdown",
   "metadata": {},
   "source": [
    "## Importing Libraries:"
   ]
  },
  {
   "cell_type": "code",
   "execution_count": 25,
   "metadata": {},
   "outputs": [],
   "source": [
    "import numpy as np \n",
    "import pickle\n",
    "import sklearn\n",
    "from sklearn.linear_model import LinearRegression\n",
    "from sklearn.model_selection import train_test_split\n",
    "from sklearn.preprocessing import PolynomialFeatures \n",
    "from matplotlib import pyplot as plt"
   ]
  },
  {
   "cell_type": "markdown",
   "metadata": {},
   "source": [
    "## Function for calculation of Bais:"
   ]
  },
  {
   "cell_type": "code",
   "execution_count": 26,
   "metadata": {},
   "outputs": [],
   "source": [
    "def bias(exp_values,y_test):\n",
    "\tans=0.00\n",
    "\tfor i in range(len(y_test)):\n",
    "\t\ttemp=(y_test[i]-np.mean(exp_values[:,i]))\n",
    "\t\ttemp*=temp\n",
    "\t\tans+=temp\n",
    "\tans/=len(y_test)\n",
    "\treturn ans "
   ]
  },
  {
   "cell_type": "markdown",
   "metadata": {},
   "source": [
    "##  Function for calulation of Varience:"
   ]
  },
  {
   "cell_type": "code",
   "execution_count": 27,
   "metadata": {},
   "outputs": [],
   "source": [
    "def variance(exp_values,y_test):\n",
    "\tans=0.0\n",
    "\tfor i in range(500):\n",
    "\t\t# print(exp_values[i].shape)\n",
    "\t\tans+=(np.var(exp_values[:,i]))\n",
    "\tans/=500\n",
    "\treturn ans"
   ]
  },
  {
   "cell_type": "markdown",
   "metadata": {},
   "source": [
    "## Main Function:"
   ]
  },
  {
   "cell_type": "code",
   "execution_count": 31,
   "metadata": {
    "tags": [
     "Output"
    ]
   },
   "outputs": [
    {
     "name": "stdout",
     "output_type": "stream",
     "text": [
      "degree bias variance\n",
      "1 [31.09908996] 0.1816681989493013\n",
      "2 [6.08622233] 0.041155827218160135\n",
      "3 [5.49808738] 0.044864768112283876\n",
      "4 [3.1778121] 0.03380625183881615\n",
      "5 [3.08885099] 0.031103769602306344\n",
      "6 [2.72315791] 0.029209678135151414\n",
      "7 [2.50849239] 0.03945440964820947\n",
      "8 [2.5046076] 0.05968901697108015\n",
      "9 [2.49685944] 0.06612185111353347\n"
     ]
    },
    {
     "data": {
      "image/png": "[encoded data removed]",
      "text/plain": [
       "<Figure size 432x288 with 1 Axes>"
      ]
     },
     "metadata": {
      "needs_background": "light"
     },
     "output_type": "display_data"
    },
    {
     "data": {
      "image/png": "[encoded data removed]",
      "text/plain": [
       "<Figure size 432x288 with 1 Axes>"
      ]
     },
     "metadata": {
      "needs_background": "light"
     },
     "output_type": "display_data"
    }
   ],
   "source": [
    "def main():\n",
    "\tdatafile = open('./Q1_data/data.pkl',\"rb\");\n",
    "\tdataset = pickle.load(datafile)\n",
    "\tx=dataset[:,:-1]\n",
    "\ty=dataset[:,-1]\n",
    "\ty_dum=len(y)\n",
    "\t# print(y_dum)\n",
    "\ty=y.reshape(y_dum,1)\n",
    "\tx_train,x_test,y_train,y_test = train_test_split(x,y,test_size=0.1,random_state=0)\n",
    "\tsz1=len(x_train)\n",
    "\tsz2=sz1/10\n",
    "\tsz2=int(sz2)\n",
    "\tx_test=x_test.reshape(len(x_test),1)\n",
    "\tx_train=x_train.reshape(len(x_train),1)\n",
    "\ty_test=y_test.reshape(len(y_test),1)\n",
    "\ty_train=y_train.reshape(len(y_train),1)\n",
    "\tx_train_subs=np.empty(shape=(10,sz2,1))\n",
    "\ty_train_subs=np.empty(shape=(10,sz2,1))\n",
    "\tfor i in range(9):\n",
    "\t\tif(i==0):\n",
    "\t\t    y1=y_train\n",
    "\t\t    x12=x_train\n",
    "\t\tsz3=sz2/sz1\n",
    "\t\t# print(sz3,sz1)\n",
    "\t\tx22,x_train_subs[i],y2,y_train_subs[i]=train_test_split(x12,y1,test_size=sz3,random_state=0)\n",
    "\t\tsz1-=sz2\n",
    "\t\ty1=y2\n",
    "\t\tx12=x22\n",
    "\t\t# print(x12.shape,y1.shape)\n",
    "\t# print(x12.shape,y1.shape)\n",
    "\t# print(x12)\n",
    "\tx_train_subs[9]=x12\n",
    "\ty_train_subs[9]=y1\n",
    "\treg=LinearRegression()\n",
    "\tbias_ar=np.empty(shape=(9,1))\n",
    "\tvar_ar=np.empty(shape=(9,1))\n",
    "\tdeg=np.empty(shape=(9,1))\n",
    "\tprint(\"degree bias variance\")\n",
    "\tfor i in range(1,10):\n",
    "\t\tdeg[i-1]=i\n",
    "\t\tprint(i,end=\" \")\n",
    "\t\texp_values=np.empty(shape=(10,len(x_test),1))\n",
    "\t\tif(i>1):\n",
    "\t\t\tpoly_fet = PolynomialFeatures(degree=i)\n",
    "\t\tfor i1 in range(10):\n",
    "\t\t\tif(i==1):\n",
    "\t\t\t\tx_poly=x_train_subs[i1]\n",
    "\t\t\t\tx_tst=x_test\n",
    "\t\t\telse:\n",
    "\t\t\t\tx_poly=poly_fet.fit_transform(x_train_subs[i1])\n",
    "\t\t\t\tx_tst=poly_fet.fit_transform(x_test)\n",
    "\t\t\treg.fit(x_poly,y_train_subs[i1])\n",
    "\t\t\t# print(reg.coef_)\n",
    "\t\t\texp_values[i1]=reg.predict(x_tst)\n",
    "\n",
    "\t\tmean_bias_sq=bias(exp_values,y_test)\n",
    "\t\tmean_variance=variance(exp_values,y_test)\n",
    "\t\tbias_ar[i-1]=mean_bias_sq\n",
    "\t\tvar_ar[i-1]=mean_variance\n",
    "\t\tprint(mean_bias_sq,mean_variance)\n",
    "\n",
    "\tplt.plot(deg,bias_ar)\n",
    "\tplt.title(\"Bias^2 vs Degree\")\n",
    "\tplt.xlabel(\"Degree of Polynomial\")\n",
    "\tplt.ylabel(\"Bias^2\")\n",
    "\tplt.show()\n",
    "\n",
    "\tplt.plot(deg,var_ar)\n",
    "\tplt.title(\"Variance vs Degree\")\n",
    "\tplt.xlabel(\"Degree of Polynomial\")\n",
    "\tplt.ylabel(\"Variance\")\n",
    "\tplt.show()\n",
    "\t# plt.title(\"Bias\")\n",
    "\n",
    "\n",
    "\n",
    "if __name__ == '__main__':\n",
    "\tmain()"
   ]
  },
  {
   "cell_type": "markdown",
   "metadata": {},
   "source": [
    "Loads dataset from data.pk1\n",
    "Divides them in the ratio of 90% for training and 10% testing\n",
    "When the degree of polynomial is very low, our function is too simple and such a simple model can not fit our training dataset. Hence under-fitting. This won't be accurate on training dataset therefore initially value is bias is too high. And at this time as model is not good therefore accuracy on test dataset is also very low.\n"
   ]
  },
  {
   "cell_type": "markdown",
   "metadata": {},
   "source": [
    "As the complexity of models increases , training accuracy goes on increasing till some limit as models fit more accurately to training dataset.So both training and test accuracy are good at this time therefore the value of variance is low which in the above graph is near 5. So both training and test accuracy are good at this time therefore the value of variance is low which in the above graph is near 3."
   ]
  },
  {
   "cell_type": "markdown",
   "metadata": {},
   "source": [
    "Alogorithm Used:"
   ]
  },
  {
   "cell_type": "markdown",
   "metadata": {},
   "source": [
    "The very simplest case of a single scalar predictor variable x and a single scalar response variable y is known as simple linear regression. The extension to multiple and/or vector-valued predictor variables (denoted with a capital X) is known as multiple linear regression, also known as multivariable linear regression. Nearly all real-world regression models involve multiple predictors, and basic descriptions of linear regression are often phrased in terms of the multiple regression model. Note, however, that in these cases the response variable y is still a scalar. Another term, multivariate linear regression, refers to cases where y is a vector, i.e., the same as general linear regression."
   ]
  }
 ],
 "metadata": {
  "kernelspec": {
   "display_name": "Python 3",
   "language": "python",
   "name": "python3"
  },
  "language_info": {
   "codemirror_mode": {
    "name": "ipython",
    "version": 3
   },
   "file_extension": ".py",
   "mimetype": "text/x-python",
   "name": "python",
   "nbconvert_exporter": "python",
   "pygments_lexer": "ipython3",
   "version": "3.6.9"
  }
 },
 "nbformat": 4,
 "nbformat_minor": 2
}
